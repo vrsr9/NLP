{
 "cells": [
  {
   "cell_type": "code",
   "execution_count": 135,
   "metadata": {
    "colab": {
     "base_uri": "https://localhost:8080/"
    },
    "id": "fcF4kKiV7AX4",
    "outputId": "8e7fde57-05a9-408e-f866-5bb413199ad4"
   },
   "outputs": [
    {
     "name": "stdout",
     "output_type": "stream",
     "text": [
      "Drive already mounted at /content/drive/; to attempt to forcibly remount, call drive.mount(\"/content/drive/\", force_remount=True).\n"
     ]
    }
   ],
   "source": [
    "from google.colab import drive\n",
    "drive.mount('/content/drive/')"
   ]
  },
  {
   "cell_type": "code",
   "execution_count": 136,
   "metadata": {
    "colab": {
     "base_uri": "https://localhost:8080/"
    },
    "id": "YA8SRZrn6tdu",
    "outputId": "7d4c2404-2db7-4e76-fdbc-e3a3470096a6"
   },
   "outputs": [
    {
     "name": "stdout",
     "output_type": "stream",
     "text": [
      "[nltk_data] Downloading package punkt to /root/nltk_data...\n",
      "[nltk_data]   Package punkt is already up-to-date!\n",
      "[nltk_data] Downloading package stopwords to /root/nltk_data...\n",
      "[nltk_data]   Package stopwords is already up-to-date!\n",
      "[nltk_data] Downloading package wordnet to /root/nltk_data...\n",
      "[nltk_data]   Package wordnet is already up-to-date!\n"
     ]
    }
   ],
   "source": [
    "# Import necessary libraries.\n",
    "import re, string, unicodedata\n",
    "import numpy as np \n",
    "import pandas as pd\n",
    "import nltk           \n",
    "                        # Natural language processing tool-kit\n",
    "nltk.download('punkt')\n",
    "nltk.download('stopwords')\n",
    "nltk.download('wordnet')\n",
    "\n",
    "#import contractions\n",
    "\n",
    "import itertools\n",
    "\n",
    "from bs4 import BeautifulSoup                 # Beautiful soup is a parsing library that can use different parsers.\n",
    "from nltk import word_tokenize, sent_tokenize\n",
    "from nltk.corpus import stopwords, wordnet    # Stopwords, and wordnet corpus\n",
    "from nltk.stem import LancasterStemmer, WordNetLemmatizer\n",
    "\n",
    "from sklearn.feature_extraction.text import CountVectorizer\n",
    "from sklearn.feature_extraction.text import TfidfVectorizer\n",
    "from sklearn.model_selection import train_test_split\n"
   ]
  },
  {
   "cell_type": "code",
   "execution_count": 137,
   "metadata": {
    "id": "8rH-hJwv6td4"
   },
   "outputs": [],
   "source": [
    "data=pd.read_csv(\"/content/drive/My Drive/Colab Notebooks/Tweets.csv\")"
   ]
  },
  {
   "cell_type": "code",
   "execution_count": 138,
   "metadata": {
    "colab": {
     "base_uri": "https://localhost:8080/"
    },
    "id": "CaBvAGph6td5",
    "outputId": "ead6f59e-b4c8-47eb-a89f-c64d98474e97"
   },
   "outputs": [
    {
     "data": {
      "text/plain": [
       "(14640, 15)"
      ]
     },
     "execution_count": 138,
     "metadata": {
      "tags": []
     },
     "output_type": "execute_result"
    }
   ],
   "source": [
    "data.shape"
   ]
  },
  {
   "cell_type": "code",
   "execution_count": 139,
   "metadata": {
    "colab": {
     "base_uri": "https://localhost:8080/",
     "height": 632
    },
    "id": "kptq2__k6td7",
    "outputId": "bf64f58c-9440-4534-a2e3-21e47d504a84"
   },
   "outputs": [
    {
     "data": {
      "text/html": [
       "<div>\n",
       "<style scoped>\n",
       "    .dataframe tbody tr th:only-of-type {\n",
       "        vertical-align: middle;\n",
       "    }\n",
       "\n",
       "    .dataframe tbody tr th {\n",
       "        vertical-align: top;\n",
       "    }\n",
       "\n",
       "    .dataframe thead th {\n",
       "        text-align: right;\n",
       "    }\n",
       "</style>\n",
       "<table border=\"1\" class=\"dataframe\">\n",
       "  <thead>\n",
       "    <tr style=\"text-align: right;\">\n",
       "      <th></th>\n",
       "      <th>tweet_id</th>\n",
       "      <th>airline_sentiment</th>\n",
       "      <th>airline_sentiment_confidence</th>\n",
       "      <th>negativereason</th>\n",
       "      <th>negativereason_confidence</th>\n",
       "      <th>airline</th>\n",
       "      <th>airline_sentiment_gold</th>\n",
       "      <th>name</th>\n",
       "      <th>negativereason_gold</th>\n",
       "      <th>retweet_count</th>\n",
       "      <th>text</th>\n",
       "      <th>tweet_coord</th>\n",
       "      <th>tweet_created</th>\n",
       "      <th>tweet_location</th>\n",
       "      <th>user_timezone</th>\n",
       "    </tr>\n",
       "  </thead>\n",
       "  <tbody>\n",
       "    <tr>\n",
       "      <th>0</th>\n",
       "      <td>570306133677760513</td>\n",
       "      <td>neutral</td>\n",
       "      <td>1.0000</td>\n",
       "      <td>NaN</td>\n",
       "      <td>NaN</td>\n",
       "      <td>Virgin America</td>\n",
       "      <td>NaN</td>\n",
       "      <td>cairdin</td>\n",
       "      <td>NaN</td>\n",
       "      <td>0</td>\n",
       "      <td>@VirginAmerica What @dhepburn said.</td>\n",
       "      <td>NaN</td>\n",
       "      <td>2015-02-24 11:35:52 -0800</td>\n",
       "      <td>NaN</td>\n",
       "      <td>Eastern Time (US &amp; Canada)</td>\n",
       "    </tr>\n",
       "    <tr>\n",
       "      <th>1</th>\n",
       "      <td>570301130888122368</td>\n",
       "      <td>positive</td>\n",
       "      <td>0.3486</td>\n",
       "      <td>NaN</td>\n",
       "      <td>0.0000</td>\n",
       "      <td>Virgin America</td>\n",
       "      <td>NaN</td>\n",
       "      <td>jnardino</td>\n",
       "      <td>NaN</td>\n",
       "      <td>0</td>\n",
       "      <td>@VirginAmerica plus you've added commercials to the experience... tacky.</td>\n",
       "      <td>NaN</td>\n",
       "      <td>2015-02-24 11:15:59 -0800</td>\n",
       "      <td>NaN</td>\n",
       "      <td>Pacific Time (US &amp; Canada)</td>\n",
       "    </tr>\n",
       "    <tr>\n",
       "      <th>2</th>\n",
       "      <td>570301083672813571</td>\n",
       "      <td>neutral</td>\n",
       "      <td>0.6837</td>\n",
       "      <td>NaN</td>\n",
       "      <td>NaN</td>\n",
       "      <td>Virgin America</td>\n",
       "      <td>NaN</td>\n",
       "      <td>yvonnalynn</td>\n",
       "      <td>NaN</td>\n",
       "      <td>0</td>\n",
       "      <td>@VirginAmerica I didn't today... Must mean I need to take another trip!</td>\n",
       "      <td>NaN</td>\n",
       "      <td>2015-02-24 11:15:48 -0800</td>\n",
       "      <td>Lets Play</td>\n",
       "      <td>Central Time (US &amp; Canada)</td>\n",
       "    </tr>\n",
       "    <tr>\n",
       "      <th>3</th>\n",
       "      <td>570301031407624196</td>\n",
       "      <td>negative</td>\n",
       "      <td>1.0000</td>\n",
       "      <td>Bad Flight</td>\n",
       "      <td>0.7033</td>\n",
       "      <td>Virgin America</td>\n",
       "      <td>NaN</td>\n",
       "      <td>jnardino</td>\n",
       "      <td>NaN</td>\n",
       "      <td>0</td>\n",
       "      <td>@VirginAmerica it's really aggressive to blast obnoxious \"entertainment\" in your guests' faces &amp;amp; they have little recourse</td>\n",
       "      <td>NaN</td>\n",
       "      <td>2015-02-24 11:15:36 -0800</td>\n",
       "      <td>NaN</td>\n",
       "      <td>Pacific Time (US &amp; Canada)</td>\n",
       "    </tr>\n",
       "    <tr>\n",
       "      <th>4</th>\n",
       "      <td>570300817074462722</td>\n",
       "      <td>negative</td>\n",
       "      <td>1.0000</td>\n",
       "      <td>Can't Tell</td>\n",
       "      <td>1.0000</td>\n",
       "      <td>Virgin America</td>\n",
       "      <td>NaN</td>\n",
       "      <td>jnardino</td>\n",
       "      <td>NaN</td>\n",
       "      <td>0</td>\n",
       "      <td>@VirginAmerica and it's a really big bad thing about it</td>\n",
       "      <td>NaN</td>\n",
       "      <td>2015-02-24 11:14:45 -0800</td>\n",
       "      <td>NaN</td>\n",
       "      <td>Pacific Time (US &amp; Canada)</td>\n",
       "    </tr>\n",
       "  </tbody>\n",
       "</table>\n",
       "</div>"
      ],
      "text/plain": [
       "             tweet_id  ...               user_timezone\n",
       "0  570306133677760513  ...  Eastern Time (US & Canada)\n",
       "1  570301130888122368  ...  Pacific Time (US & Canada)\n",
       "2  570301083672813571  ...  Central Time (US & Canada)\n",
       "3  570301031407624196  ...  Pacific Time (US & Canada)\n",
       "4  570300817074462722  ...  Pacific Time (US & Canada)\n",
       "\n",
       "[5 rows x 15 columns]"
      ]
     },
     "execution_count": 139,
     "metadata": {
      "tags": []
     },
     "output_type": "execute_result"
    }
   ],
   "source": [
    "data.head()"
   ]
  },
  {
   "cell_type": "code",
   "execution_count": 140,
   "metadata": {
    "colab": {
     "base_uri": "https://localhost:8080/"
    },
    "id": "rmnts-oq6td7",
    "outputId": "96de37ea-6e2f-4730-fac5-42aed2bdcd57"
   },
   "outputs": [
    {
     "name": "stdout",
     "output_type": "stream",
     "text": [
      "<class 'pandas.core.frame.DataFrame'>\n",
      "RangeIndex: 14640 entries, 0 to 14639\n",
      "Data columns (total 15 columns):\n",
      " #   Column                        Non-Null Count  Dtype  \n",
      "---  ------                        --------------  -----  \n",
      " 0   tweet_id                      14640 non-null  int64  \n",
      " 1   airline_sentiment             14640 non-null  object \n",
      " 2   airline_sentiment_confidence  14640 non-null  float64\n",
      " 3   negativereason                9178 non-null   object \n",
      " 4   negativereason_confidence     10522 non-null  float64\n",
      " 5   airline                       14640 non-null  object \n",
      " 6   airline_sentiment_gold        40 non-null     object \n",
      " 7   name                          14640 non-null  object \n",
      " 8   negativereason_gold           32 non-null     object \n",
      " 9   retweet_count                 14640 non-null  int64  \n",
      " 10  text                          14640 non-null  object \n",
      " 11  tweet_coord                   1019 non-null   object \n",
      " 12  tweet_created                 14640 non-null  object \n",
      " 13  tweet_location                9907 non-null   object \n",
      " 14  user_timezone                 9820 non-null   object \n",
      "dtypes: float64(2), int64(2), object(11)\n",
      "memory usage: 1.7+ MB\n"
     ]
    }
   ],
   "source": [
    "data.info()"
   ]
  },
  {
   "cell_type": "code",
   "execution_count": 141,
   "metadata": {
    "id": "-fqjrNBJ6td9"
   },
   "outputs": [],
   "source": [
    "data=data[[\"text\",\"airline_sentiment\"]]"
   ]
  },
  {
   "cell_type": "code",
   "execution_count": 142,
   "metadata": {
    "colab": {
     "base_uri": "https://localhost:8080/"
    },
    "id": "Z2FKfUiq6td9",
    "outputId": "da1f7c6e-c02c-4b0c-e529-d416f469ae18"
   },
   "outputs": [
    {
     "data": {
      "text/plain": [
       "(14640, 2)"
      ]
     },
     "execution_count": 142,
     "metadata": {
      "tags": []
     },
     "output_type": "execute_result"
    }
   ],
   "source": [
    "data.shape"
   ]
  },
  {
   "cell_type": "code",
   "execution_count": 143,
   "metadata": {
    "colab": {
     "base_uri": "https://localhost:8080/",
     "height": 204
    },
    "id": "3fTtYkAa6td-",
    "outputId": "cb527f3f-6d6e-445c-dabb-a189d39f81e7"
   },
   "outputs": [
    {
     "data": {
      "text/html": [
       "<div>\n",
       "<style scoped>\n",
       "    .dataframe tbody tr th:only-of-type {\n",
       "        vertical-align: middle;\n",
       "    }\n",
       "\n",
       "    .dataframe tbody tr th {\n",
       "        vertical-align: top;\n",
       "    }\n",
       "\n",
       "    .dataframe thead th {\n",
       "        text-align: right;\n",
       "    }\n",
       "</style>\n",
       "<table border=\"1\" class=\"dataframe\">\n",
       "  <thead>\n",
       "    <tr style=\"text-align: right;\">\n",
       "      <th></th>\n",
       "      <th>text</th>\n",
       "      <th>airline_sentiment</th>\n",
       "    </tr>\n",
       "  </thead>\n",
       "  <tbody>\n",
       "    <tr>\n",
       "      <th>0</th>\n",
       "      <td>@VirginAmerica What @dhepburn said.</td>\n",
       "      <td>neutral</td>\n",
       "    </tr>\n",
       "    <tr>\n",
       "      <th>1</th>\n",
       "      <td>@VirginAmerica plus you've added commercials to the experience... tacky.</td>\n",
       "      <td>positive</td>\n",
       "    </tr>\n",
       "    <tr>\n",
       "      <th>2</th>\n",
       "      <td>@VirginAmerica I didn't today... Must mean I need to take another trip!</td>\n",
       "      <td>neutral</td>\n",
       "    </tr>\n",
       "    <tr>\n",
       "      <th>3</th>\n",
       "      <td>@VirginAmerica it's really aggressive to blast obnoxious \"entertainment\" in your guests' faces &amp;amp; they have little recourse</td>\n",
       "      <td>negative</td>\n",
       "    </tr>\n",
       "    <tr>\n",
       "      <th>4</th>\n",
       "      <td>@VirginAmerica and it's a really big bad thing about it</td>\n",
       "      <td>negative</td>\n",
       "    </tr>\n",
       "  </tbody>\n",
       "</table>\n",
       "</div>"
      ],
      "text/plain": [
       "                                                                                                                             text airline_sentiment\n",
       "0                                                                                             @VirginAmerica What @dhepburn said.           neutral\n",
       "1                                                        @VirginAmerica plus you've added commercials to the experience... tacky.          positive\n",
       "2                                                         @VirginAmerica I didn't today... Must mean I need to take another trip!           neutral\n",
       "3  @VirginAmerica it's really aggressive to blast obnoxious \"entertainment\" in your guests' faces &amp; they have little recourse          negative\n",
       "4                                                                         @VirginAmerica and it's a really big bad thing about it          negative"
      ]
     },
     "execution_count": 143,
     "metadata": {
      "tags": []
     },
     "output_type": "execute_result"
    }
   ],
   "source": [
    "pd.set_option('display.max_colwidth', None)\n",
    "data.head()"
   ]
  },
  {
   "cell_type": "markdown",
   "metadata": {
    "id": "Ey-hTF__6td-"
   },
   "source": [
    "## Pre Processing"
   ]
  },
  {
   "cell_type": "markdown",
   "metadata": {
    "id": "CIdrRmZu6td-"
   },
   "source": [
    "#### HTML tag removal- Function"
   ]
  },
  {
   "cell_type": "code",
   "execution_count": 144,
   "metadata": {
    "id": "NuDOo3ER6td_"
   },
   "outputs": [],
   "source": [
    "def strip_html(text):\n",
    "    soup = BeautifulSoup(text, \"html.parser\")\n",
    "    return soup.get_text()\n",
    "\n",
    "#data['text'] = data['text'].apply(lambda x: strip_html(x))\n",
    "#data.head()"
   ]
  },
  {
   "cell_type": "markdown",
   "metadata": {
    "id": "r3yQdh9q6td_"
   },
   "source": [
    "### Tokenization - Function"
   ]
  },
  {
   "cell_type": "code",
   "execution_count": 145,
   "metadata": {
    "id": "EMy53CgK6td_"
   },
   "outputs": [],
   "source": [
    "def tokens(text):\n",
    "    words = nltk.word_tokenize(text)\n",
    "    return words\n",
    "#data['text'] = data['text'].apply(lambda x: tokens(x))\n",
    "#data.head()"
   ]
  },
  {
   "cell_type": "markdown",
   "metadata": {
    "id": "PE9NJr9P6teA"
   },
   "source": [
    "### Remove Numbers - Function"
   ]
  },
  {
   "cell_type": "code",
   "execution_count": 146,
   "metadata": {
    "id": "ErYrW8nd6teA"
   },
   "outputs": [],
   "source": [
    "def remove_numbers(words):\n",
    "    \"\"\"Remove Numbers from list of tokenized words\"\"\"\n",
    "    new_words = []\n",
    "    for  word in words:\n",
    "        new_word = re.sub(r'\\d+', '', word)\n",
    "        new_words.append(new_word)\n",
    "    return new_words\n",
    "\n",
    "#data['Text'] = data['Text'].apply(lambda x: remove_numbers(x))\n",
    "#data.head()\n"
   ]
  },
  {
   "cell_type": "markdown",
   "metadata": {
    "id": "Mw-pp7MX6teA"
   },
   "source": [
    "### Removal of Non Ascii i.e Special Chars - Function"
   ]
  },
  {
   "cell_type": "code",
   "execution_count": 147,
   "metadata": {
    "id": "htz7KALE6teB"
   },
   "outputs": [],
   "source": [
    "def remove_non_ascii(words):\n",
    "    \"\"\"Remove non-ASCII characters from list of tokenized words\"\"\"\n",
    "    new_words = []\n",
    "    for word in words:\n",
    "        new_word = unicodedata.normalize('NFKD', word).encode('ascii', 'ignore').decode('utf-8', 'ignore')\n",
    "        new_words.append(new_word)\n",
    "    return new_words"
   ]
  },
  {
   "cell_type": "markdown",
   "metadata": {
    "id": "u4rfjElB6teB"
   },
   "source": [
    "### Removal of Punctuation - Function"
   ]
  },
  {
   "cell_type": "code",
   "execution_count": 148,
   "metadata": {
    "id": "UfMLG3wk6teB"
   },
   "outputs": [],
   "source": [
    "def remove_punctuation(words):\n",
    "    \"\"\"Remove punctuation from list of tokenized words\"\"\"\n",
    "    new_words = []\n",
    "    for word in words:\n",
    "        new_word = re.sub(r'[^\\w\\s]', '', word)\n",
    "        if new_word != '':\n",
    "            new_words.append(new_word)\n",
    "    return new_words"
   ]
  },
  {
   "cell_type": "markdown",
   "metadata": {
    "id": "ACXZp8aZ6teC"
   },
   "source": [
    "#### Conversion to lowercase - Function"
   ]
  },
  {
   "cell_type": "code",
   "execution_count": 149,
   "metadata": {
    "id": "oO2So41O6teC"
   },
   "outputs": [],
   "source": [
    "def to_lowercase(words):\n",
    "    \"\"\"Convert all characters to lowercase from list of tokenized words\"\"\"\n",
    "    new_words = []\n",
    "    for word in words:\n",
    "        new_word = word.lower()\n",
    "        new_words.append(new_word)\n",
    "    return new_words"
   ]
  },
  {
   "cell_type": "markdown",
   "metadata": {
    "id": "3C3a9tUS6teC"
   },
   "source": [
    "### Lemmatization - Function"
   ]
  },
  {
   "cell_type": "code",
   "execution_count": 150,
   "metadata": {
    "id": "tKM_Jn0L6teC"
   },
   "outputs": [],
   "source": [
    "lemmatizer = WordNetLemmatizer()\n",
    "def lemmatize_list(words):\n",
    "    new_words = []\n",
    "    for word in words:\n",
    "      new_words.append(lemmatizer.lemmatize(word, pos='v'))\n",
    "    return new_words"
   ]
  },
  {
   "cell_type": "markdown",
   "metadata": {
    "id": "yAc0xJ766teD"
   },
   "source": [
    "### Function to apply all the Data Preprocessing fuctions"
   ]
  },
  {
   "cell_type": "code",
   "execution_count": 151,
   "metadata": {
    "id": "kVafbUpB6teD"
   },
   "outputs": [],
   "source": [
    "def normalize(words):\n",
    "    words = strip_html(words)          # html tag removal fucntion\n",
    "    words = tokens(words)              # Tokenization\n",
    "    words = remove_numbers(words)     # Remove Numbers\n",
    "    words = remove_non_ascii(words)   # Remove Special Characters\n",
    "    words = remove_punctuation(words) # Remove Punctuation Characters\n",
    "    words = to_lowercase(words)       # Convert to Lower Case\n",
    "    words = lemmatize_list(words)     # Lemmatization\n",
    "    return ' '.join(words)            # Join all words into a sentence/text"
   ]
  },
  {
   "cell_type": "markdown",
   "metadata": {
    "id": "1KI_FwvD6teE"
   },
   "source": [
    "### Applying Data Preprocessing and printing first 5 rows"
   ]
  },
  {
   "cell_type": "code",
   "execution_count": 152,
   "metadata": {
    "colab": {
     "base_uri": "https://localhost:8080/",
     "height": 204
    },
    "id": "XwPv9Slj6teE",
    "outputId": "33d96144-509a-4ab1-cc08-0f1fa38ac354"
   },
   "outputs": [
    {
     "data": {
      "text/html": [
       "<div>\n",
       "<style scoped>\n",
       "    .dataframe tbody tr th:only-of-type {\n",
       "        vertical-align: middle;\n",
       "    }\n",
       "\n",
       "    .dataframe tbody tr th {\n",
       "        vertical-align: top;\n",
       "    }\n",
       "\n",
       "    .dataframe thead th {\n",
       "        text-align: right;\n",
       "    }\n",
       "</style>\n",
       "<table border=\"1\" class=\"dataframe\">\n",
       "  <thead>\n",
       "    <tr style=\"text-align: right;\">\n",
       "      <th></th>\n",
       "      <th>text</th>\n",
       "      <th>airline_sentiment</th>\n",
       "    </tr>\n",
       "  </thead>\n",
       "  <tbody>\n",
       "    <tr>\n",
       "      <th>0</th>\n",
       "      <td>virginamerica what dhepburn say</td>\n",
       "      <td>neutral</td>\n",
       "    </tr>\n",
       "    <tr>\n",
       "      <th>1</th>\n",
       "      <td>virginamerica plus you ve add commercials to the experience tacky</td>\n",
       "      <td>positive</td>\n",
       "    </tr>\n",
       "    <tr>\n",
       "      <th>2</th>\n",
       "      <td>virginamerica i do nt today must mean i need to take another trip</td>\n",
       "      <td>neutral</td>\n",
       "    </tr>\n",
       "    <tr>\n",
       "      <th>3</th>\n",
       "      <td>virginamerica it s really aggressive to blast obnoxious entertainment in your guests face they have little recourse</td>\n",
       "      <td>negative</td>\n",
       "    </tr>\n",
       "    <tr>\n",
       "      <th>4</th>\n",
       "      <td>virginamerica and it s a really big bad thing about it</td>\n",
       "      <td>negative</td>\n",
       "    </tr>\n",
       "  </tbody>\n",
       "</table>\n",
       "</div>"
      ],
      "text/plain": [
       "                                                                                                                  text airline_sentiment\n",
       "0                                                                                      virginamerica what dhepburn say           neutral\n",
       "1                                                    virginamerica plus you ve add commercials to the experience tacky          positive\n",
       "2                                                    virginamerica i do nt today must mean i need to take another trip           neutral\n",
       "3  virginamerica it s really aggressive to blast obnoxious entertainment in your guests face they have little recourse          negative\n",
       "4                                                               virginamerica and it s a really big bad thing about it          negative"
      ]
     },
     "execution_count": 152,
     "metadata": {
      "tags": []
     },
     "output_type": "execute_result"
    }
   ],
   "source": [
    "data['text'] = data.apply(lambda row: normalize(row['text']), axis=1)\n",
    "data.head()"
   ]
  },
  {
   "cell_type": "code",
   "execution_count": 153,
   "metadata": {
    "colab": {
     "base_uri": "https://localhost:8080/"
    },
    "id": "coMo8wWF6teE",
    "outputId": "361c615f-9a12-48bc-f164-e25f8ad9781a"
   },
   "outputs": [
    {
     "data": {
      "text/plain": [
       "12230"
      ]
     },
     "execution_count": 153,
     "metadata": {
      "tags": []
     },
     "output_type": "execute_result"
    }
   ],
   "source": [
    "words_list=[each.split(\" \") for each in data['text']]\n",
    "\n",
    "#words_list # list of lists \n",
    "\n",
    "\n",
    "corpus=set(itertools.chain(*words_list))\n",
    "len(corpus)"
   ]
  },
  {
   "cell_type": "markdown",
   "metadata": {
    "id": "U9XX_ton6teF"
   },
   "source": [
    "### Vectorization"
   ]
  },
  {
   "cell_type": "markdown",
   "metadata": {
    "id": "NEHXliKg6teF"
   },
   "source": [
    "#### Count Vector"
   ]
  },
  {
   "cell_type": "code",
   "execution_count": 154,
   "metadata": {
    "colab": {
     "base_uri": "https://localhost:8080/"
    },
    "id": "JWB6s-0Z6teF",
    "outputId": "ac2586af-6b71-44f0-b897-14929f0661e5"
   },
   "outputs": [
    {
     "data": {
      "text/plain": [
       "(14640, 1000)"
      ]
     },
     "execution_count": 154,
     "metadata": {
      "tags": []
     },
     "output_type": "execute_result"
    }
   ],
   "source": [
    "# Vectorization (Convert text data to numbers).\n",
    "\n",
    "\n",
    "vectorizer1 = CountVectorizer(max_features=1000)                # Keep only 1000 features as number of features will increase the processing time.\n",
    "data_features1 = vectorizer1.fit_transform(data['text'])\n",
    "\n",
    "data_features1 = data_features1.toarray()                        # Convert the data features to array.\n",
    "data_features1.shape"
   ]
  },
  {
   "cell_type": "code",
   "execution_count": 155,
   "metadata": {
    "colab": {
     "base_uri": "https://localhost:8080/"
    },
    "id": "mjE8VxRe6teG",
    "outputId": "005bae03-4d1e-4a49-cc80-9be16d77ec8c"
   },
   "outputs": [
    {
     "data": {
      "text/plain": [
       "array([[0, 0, 0, ..., 0, 0, 0],\n",
       "       [0, 0, 0, ..., 0, 0, 0],\n",
       "       [0, 0, 0, ..., 0, 0, 0],\n",
       "       ...,\n",
       "       [0, 0, 0, ..., 0, 0, 0],\n",
       "       [0, 0, 0, ..., 1, 0, 0],\n",
       "       [0, 0, 0, ..., 0, 0, 0]])"
      ]
     },
     "execution_count": 155,
     "metadata": {
      "tags": []
     },
     "output_type": "execute_result"
    }
   ],
   "source": [
    "data_features1"
   ]
  },
  {
   "cell_type": "markdown",
   "metadata": {
    "id": "nFh6UzNC6teG"
   },
   "source": [
    "#### TD-IDF Vector"
   ]
  },
  {
   "cell_type": "code",
   "execution_count": 156,
   "metadata": {
    "colab": {
     "base_uri": "https://localhost:8080/"
    },
    "id": "jXUvoG9W6teG",
    "outputId": "a9735951-6886-4eeb-8f47-5435d24252d1"
   },
   "outputs": [
    {
     "data": {
      "text/plain": [
       "(14640, 1000)"
      ]
     },
     "execution_count": 156,
     "metadata": {
      "tags": []
     },
     "output_type": "execute_result"
    }
   ],
   "source": [
    "# Using TfidfVectorizer to convert text data to numbers.\n",
    "\n",
    "vectorizer2 = TfidfVectorizer(max_features=1000)\n",
    "data_features2 = vectorizer2.fit_transform(data['text'])\n",
    "\n",
    "data_features2 = data_features2.toarray()\n",
    "\n",
    "data_features2.shape"
   ]
  },
  {
   "cell_type": "code",
   "execution_count": 157,
   "metadata": {
    "colab": {
     "base_uri": "https://localhost:8080/"
    },
    "id": "tAvD_ak56teH",
    "outputId": "133e5566-8134-4ea6-c786-fd0fd8bc3289"
   },
   "outputs": [
    {
     "data": {
      "text/plain": [
       "array([[0.        , 0.        , 0.        , ..., 0.        , 0.        ,\n",
       "        0.        ],\n",
       "       [0.        , 0.        , 0.        , ..., 0.        , 0.        ,\n",
       "        0.        ],\n",
       "       [0.        , 0.        , 0.        , ..., 0.        , 0.        ,\n",
       "        0.        ],\n",
       "       ...,\n",
       "       [0.        , 0.        , 0.        , ..., 0.        , 0.        ,\n",
       "        0.        ],\n",
       "       [0.        , 0.        , 0.        , ..., 0.17497937, 0.        ,\n",
       "        0.        ],\n",
       "       [0.        , 0.        , 0.        , ..., 0.        , 0.        ,\n",
       "        0.        ]])"
      ]
     },
     "execution_count": 157,
     "metadata": {
      "tags": []
     },
     "output_type": "execute_result"
    }
   ],
   "source": [
    "data_features2"
   ]
  },
  {
   "cell_type": "code",
   "execution_count": 158,
   "metadata": {
    "colab": {
     "base_uri": "https://localhost:8080/"
    },
    "id": "qugzk_el6teI",
    "outputId": "87f48e96-c154-4e1d-c373-a29c66d0eabd"
   },
   "outputs": [
    {
     "data": {
      "text/plain": [
       "negative    9178\n",
       "neutral     3099\n",
       "positive    2363\n",
       "Name: airline_sentiment, dtype: int64"
      ]
     },
     "execution_count": 158,
     "metadata": {
      "tags": []
     },
     "output_type": "execute_result"
    }
   ],
   "source": [
    "data['airline_sentiment'].value_counts()"
   ]
  },
  {
   "cell_type": "code",
   "execution_count": 159,
   "metadata": {
    "colab": {
     "base_uri": "https://localhost:8080/"
    },
    "id": "eG8Lj1aE6teI",
    "outputId": "58ccb343-ac38-443c-f06a-2bf15e1c1991"
   },
   "outputs": [
    {
     "data": {
      "text/plain": [
       "1    9178\n",
       "2    3099\n",
       "3    2363\n",
       "Name: airline_sentiment, dtype: int64"
      ]
     },
     "execution_count": 159,
     "metadata": {
      "tags": []
     },
     "output_type": "execute_result"
    }
   ],
   "source": [
    "# Using Lable Encodng on Airline Sentiment data\n",
    "\n",
    "data['airline_sentiment'] =  data['airline_sentiment'].replace({'negative':1 , 'neutral': 2, 'positive': 3})\n",
    "\n",
    "data['airline_sentiment'].value_counts()\n"
   ]
  },
  {
   "cell_type": "code",
   "execution_count": 160,
   "metadata": {
    "id": "HscN_2i46teJ"
   },
   "outputs": [],
   "source": [
    "labels1 = data['airline_sentiment']"
   ]
  },
  {
   "cell_type": "markdown",
   "metadata": {
    "id": "X-Tn5o2P6teJ"
   },
   "source": [
    "### Model using Count Vectorization"
   ]
  },
  {
   "cell_type": "code",
   "execution_count": 161,
   "metadata": {
    "id": "gJt9ez_M6teJ"
   },
   "outputs": [],
   "source": [
    "# Split data into training and testing set.\n",
    "\n",
    "X_train, X_test, y_train, y_test = train_test_split(data_features1, labels1, test_size=0.3, random_state=9)"
   ]
  },
  {
   "cell_type": "code",
   "execution_count": 162,
   "metadata": {
    "colab": {
     "base_uri": "https://localhost:8080/"
    },
    "id": "j78Y4ZKC6teK",
    "outputId": "b69f4f3d-ff05-4956-f80b-74fa79e4ab2a"
   },
   "outputs": [
    {
     "name": "stdout",
     "output_type": "stream",
     "text": [
      "RandomForestClassifier(bootstrap=True, ccp_alpha=0.0, class_weight=None,\n",
      "                       criterion='gini', max_depth=None, max_features='auto',\n",
      "                       max_leaf_nodes=None, max_samples=None,\n",
      "                       min_impurity_decrease=0.0, min_impurity_split=None,\n",
      "                       min_samples_leaf=1, min_samples_split=2,\n",
      "                       min_weight_fraction_leaf=0.0, n_estimators=10, n_jobs=4,\n",
      "                       oob_score=False, random_state=None, verbose=0,\n",
      "                       warm_start=False)\n",
      "0.7145491803278688\n"
     ]
    }
   ],
   "source": [
    "# Using Random Forest to build model for the classification of reviews.\n",
    "# Also calculating the cross validation score.\n",
    "\n",
    "from sklearn.ensemble import RandomForestClassifier\n",
    "from sklearn.model_selection import cross_val_score\n",
    "\n",
    "forest = RandomForestClassifier(n_estimators=10, n_jobs=4)\n",
    "\n",
    "forest = forest.fit(X_train, y_train)\n",
    "\n",
    "print(forest)\n",
    "\n",
    "print(np.mean(cross_val_score(forest, data_features1, labels1, cv=10)))"
   ]
  },
  {
   "cell_type": "code",
   "execution_count": 163,
   "metadata": {
    "id": "Z2Vd5u7h6teK"
   },
   "outputs": [],
   "source": [
    "# Predict the result for test data using the model built above.\n",
    "\n",
    "result = forest.predict(X_test)"
   ]
  },
  {
   "cell_type": "code",
   "execution_count": 164,
   "metadata": {
    "colab": {
     "base_uri": "https://localhost:8080/",
     "height": 496
    },
    "id": "ffLsfgQ66teK",
    "outputId": "4503e9b0-be57-416e-eee9-b9712eb1a069"
   },
   "outputs": [
    {
     "name": "stdout",
     "output_type": "stream",
     "text": [
      "[[2549  135   54]\n",
      " [ 511  357   61]\n",
      " [ 253  110  362]]\n"
     ]
    },
    {
     "data": {
      "text/plain": [
       "<matplotlib.axes._subplots.AxesSubplot at 0x7f2594d5e358>"
      ]
     },
     "execution_count": 164,
     "metadata": {
      "tags": []
     },
     "output_type": "execute_result"
    },
    {
     "data": {
      "image/png": "[encoded data removed]",
      "text/plain": [
       "<Figure size 720x504 with 2 Axes>"
      ]
     },
     "metadata": {
      "needs_background": "light",
      "tags": []
     },
     "output_type": "display_data"
    }
   ],
   "source": [
    "# Print and plot Confusion matirx to get an idea of how the distribution of the prediction is, among all the classes.\n",
    "\n",
    "import matplotlib.pyplot as plt\n",
    "import seaborn as sns\n",
    "from sklearn.metrics import confusion_matrix\n",
    "\n",
    "conf_mat = confusion_matrix(y_test, result)\n",
    "\n",
    "print(conf_mat)\n",
    "\n",
    "df_cm = pd.DataFrame(conf_mat, index = [i for i in \"123\"],\n",
    "                  columns = [i for i in \"123\"])\n",
    "plt.figure(figsize = (10,7))\n",
    "sns.heatmap(df_cm, annot=True, fmt='g')"
   ]
  },
  {
   "cell_type": "markdown",
   "metadata": {
    "id": "YviepEja6teL"
   },
   "source": [
    "### Model Using TD-IDF"
   ]
  },
  {
   "cell_type": "code",
   "execution_count": 165,
   "metadata": {
    "colab": {
     "base_uri": "https://localhost:8080/"
    },
    "id": "mvfunzJ36teL",
    "outputId": "ccfb36c2-daf1-454c-9e31-f4d04b6f7b4a"
   },
   "outputs": [
    {
     "name": "stdout",
     "output_type": "stream",
     "text": [
      "RandomForestClassifier(bootstrap=True, ccp_alpha=0.0, class_weight=None,\n",
      "                       criterion='gini', max_depth=None, max_features='auto',\n",
      "                       max_leaf_nodes=None, max_samples=None,\n",
      "                       min_impurity_decrease=0.0, min_impurity_split=None,\n",
      "                       min_samples_leaf=1, min_samples_split=2,\n",
      "                       min_weight_fraction_leaf=0.0, n_estimators=10, n_jobs=4,\n",
      "                       oob_score=False, random_state=None, verbose=0,\n",
      "                       warm_start=False)\n",
      "0.7148907103825137\n"
     ]
    }
   ],
   "source": [
    "# Using Random Forest to build model for the classification of reviews.\n",
    "# Also calculating the cross validation score.\n",
    "\n",
    "# Split data into training and testing set.\n",
    "\n",
    "X_train, X_test, y_train, y_test = train_test_split(data_features2, labels1, test_size=0.3, random_state=9)\n",
    "\n",
    "forest = RandomForestClassifier(n_estimators=10, n_jobs=4)\n",
    "\n",
    "forest = forest.fit(X_train, y_train)\n",
    "\n",
    "print(forest)\n",
    "\n",
    "print(np.mean(cross_val_score(forest, data_features2, labels1, cv=10)))"
   ]
  },
  {
   "cell_type": "code",
   "execution_count": 166,
   "metadata": {
    "id": "yCLlXqRi6teN"
   },
   "outputs": [],
   "source": [
    "# Predict the result for test data using the model built above.\n",
    "\n",
    "result = forest.predict(X_test)"
   ]
  },
  {
   "cell_type": "code",
   "execution_count": 167,
   "metadata": {
    "colab": {
     "base_uri": "https://localhost:8080/",
     "height": 496
    },
    "id": "oD2_-18S6teO",
    "outputId": "b3944594-bd18-45c0-f316-1498a5786801"
   },
   "outputs": [
    {
     "name": "stdout",
     "output_type": "stream",
     "text": [
      "[[2559  116   63]\n",
      " [ 495  373   61]\n",
      " [ 263  100  362]]\n"
     ]
    },
    {
     "data": {
      "text/plain": [
       "<matplotlib.axes._subplots.AxesSubplot at 0x7f2594da8438>"
      ]
     },
     "execution_count": 167,
     "metadata": {
      "tags": []
     },
     "output_type": "execute_result"
    },
    {
     "data": {
      "image/png": "[encoded data removed]",
      "text/plain": [
       "<Figure size 720x504 with 2 Axes>"
      ]
     },
     "metadata": {
      "needs_background": "light",
      "tags": []
     },
     "output_type": "display_data"
    }
   ],
   "source": [
    "# Print and plot Confusion matirx to get an idea of how the distribution of the prediction is, among all the classes.\n",
    "\n",
    "\n",
    "conf_mat = confusion_matrix(y_test, result)\n",
    "\n",
    "print(conf_mat)\n",
    "\n",
    "df_cm = pd.DataFrame(conf_mat, index = [i for i in \"123\"],\n",
    "                  columns = [i for i in \"123\"])\n",
    "plt.figure(figsize = (10,7))\n",
    "sns.heatmap(df_cm, annot=True, fmt='g')"
   ]
  },
  {
   "cell_type": "code",
   "execution_count": 168,
   "metadata": {
    "id": "Du4UnQz06teO"
   },
   "outputs": [],
   "source": [
    "import tensorflow as tf"
   ]
  },
  {
   "cell_type": "code",
   "execution_count": 169,
   "metadata": {
    "id": "AYMANrny6teP"
   },
   "outputs": [],
   "source": [
    "from keras.utils import np_utils"
   ]
  },
  {
   "cell_type": "code",
   "execution_count": 170,
   "metadata": {
    "colab": {
     "base_uri": "https://localhost:8080/",
     "height": 419
    },
    "id": "45zqtZ2t6teP",
    "outputId": "5e485f5d-2dab-4338-c956-607d142ab322"
   },
   "outputs": [
    {
     "data": {
      "text/html": [
       "<div>\n",
       "<style scoped>\n",
       "    .dataframe tbody tr th:only-of-type {\n",
       "        vertical-align: middle;\n",
       "    }\n",
       "\n",
       "    .dataframe tbody tr th {\n",
       "        vertical-align: top;\n",
       "    }\n",
       "\n",
       "    .dataframe thead th {\n",
       "        text-align: right;\n",
       "    }\n",
       "</style>\n",
       "<table border=\"1\" class=\"dataframe\">\n",
       "  <thead>\n",
       "    <tr style=\"text-align: right;\">\n",
       "      <th></th>\n",
       "      <th>review_1</th>\n",
       "      <th>review_2</th>\n",
       "      <th>review_3</th>\n",
       "    </tr>\n",
       "  </thead>\n",
       "  <tbody>\n",
       "    <tr>\n",
       "      <th>0</th>\n",
       "      <td>0</td>\n",
       "      <td>1</td>\n",
       "      <td>0</td>\n",
       "    </tr>\n",
       "    <tr>\n",
       "      <th>1</th>\n",
       "      <td>0</td>\n",
       "      <td>0</td>\n",
       "      <td>1</td>\n",
       "    </tr>\n",
       "    <tr>\n",
       "      <th>2</th>\n",
       "      <td>0</td>\n",
       "      <td>1</td>\n",
       "      <td>0</td>\n",
       "    </tr>\n",
       "    <tr>\n",
       "      <th>3</th>\n",
       "      <td>1</td>\n",
       "      <td>0</td>\n",
       "      <td>0</td>\n",
       "    </tr>\n",
       "    <tr>\n",
       "      <th>4</th>\n",
       "      <td>1</td>\n",
       "      <td>0</td>\n",
       "      <td>0</td>\n",
       "    </tr>\n",
       "    <tr>\n",
       "      <th>...</th>\n",
       "      <td>...</td>\n",
       "      <td>...</td>\n",
       "      <td>...</td>\n",
       "    </tr>\n",
       "    <tr>\n",
       "      <th>14635</th>\n",
       "      <td>0</td>\n",
       "      <td>0</td>\n",
       "      <td>1</td>\n",
       "    </tr>\n",
       "    <tr>\n",
       "      <th>14636</th>\n",
       "      <td>1</td>\n",
       "      <td>0</td>\n",
       "      <td>0</td>\n",
       "    </tr>\n",
       "    <tr>\n",
       "      <th>14637</th>\n",
       "      <td>0</td>\n",
       "      <td>1</td>\n",
       "      <td>0</td>\n",
       "    </tr>\n",
       "    <tr>\n",
       "      <th>14638</th>\n",
       "      <td>1</td>\n",
       "      <td>0</td>\n",
       "      <td>0</td>\n",
       "    </tr>\n",
       "    <tr>\n",
       "      <th>14639</th>\n",
       "      <td>0</td>\n",
       "      <td>1</td>\n",
       "      <td>0</td>\n",
       "    </tr>\n",
       "  </tbody>\n",
       "</table>\n",
       "<p>14640 rows × 3 columns</p>\n",
       "</div>"
      ],
      "text/plain": [
       "       review_1  review_2  review_3\n",
       "0             0         1         0\n",
       "1             0         0         1\n",
       "2             0         1         0\n",
       "3             1         0         0\n",
       "4             1         0         0\n",
       "...         ...       ...       ...\n",
       "14635         0         0         1\n",
       "14636         1         0         0\n",
       "14637         0         1         0\n",
       "14638         1         0         0\n",
       "14639         0         1         0\n",
       "\n",
       "[14640 rows x 3 columns]"
      ]
     },
     "execution_count": 170,
     "metadata": {
      "tags": []
     },
     "output_type": "execute_result"
    }
   ],
   "source": [
    "## Converting the Labels into One Hot Encoding.. so that it can be used in Nural Network\n",
    "\n",
    "labels2 = pd.get_dummies(data.airline_sentiment, prefix='review')\n",
    "labels2\n"
   ]
  },
  {
   "cell_type": "markdown",
   "metadata": {
    "id": "HbnUSHJ22P-G"
   },
   "source": [
    "Creating a Nueral N/w for Counter Vectorization"
   ]
  },
  {
   "cell_type": "code",
   "execution_count": 171,
   "metadata": {
    "id": "msllP2dC6teQ"
   },
   "outputs": [],
   "source": [
    "# Split data into training and testing set.\n",
    "\n",
    "X_train, X_test, y_train, y_test = train_test_split(data_features1, labels2, test_size=0.3, random_state=9)"
   ]
  },
  {
   "cell_type": "code",
   "execution_count": 172,
   "metadata": {
    "id": "G3ZhNCp16teQ"
   },
   "outputs": [],
   "source": [
    "X_train=tf.convert_to_tensor(X_train)\n",
    "X_test=tf.convert_to_tensor(X_test)\n",
    "y_train=tf.convert_to_tensor(y_train)\n",
    "y_test=tf.convert_to_tensor(y_test)\n"
   ]
  },
  {
   "cell_type": "code",
   "execution_count": 173,
   "metadata": {
    "colab": {
     "base_uri": "https://localhost:8080/"
    },
    "id": "GyiotArc3Yg-",
    "outputId": "4b0e4a73-3a02-42ce-818b-cac98bf7e7c2"
   },
   "outputs": [
    {
     "data": {
      "text/plain": [
       "(TensorShape([10248, 1000]),\n",
       " TensorShape([4392, 1000]),\n",
       " TensorShape([10248, 3]),\n",
       " TensorShape([4392, 3]))"
      ]
     },
     "execution_count": 173,
     "metadata": {
      "tags": []
     },
     "output_type": "execute_result"
    }
   ],
   "source": [
    "X_train.shape, X_test.shape, y_train.shape, y_test.shape"
   ]
  },
  {
   "cell_type": "code",
   "execution_count": 174,
   "metadata": {
    "colab": {
     "base_uri": "https://localhost:8080/"
    },
    "id": "rSMietfw2yqL",
    "outputId": "0392fdbe-f3a8-4c05-f823-119da660c65f"
   },
   "outputs": [
    {
     "name": "stdout",
     "output_type": "stream",
     "text": [
      "Epoch 1/10\n",
      "321/321 [==============================] - 3s 9ms/step - loss: 0.6684 - accuracy: 0.7166\n",
      "Epoch 2/10\n",
      "321/321 [==============================] - 3s 9ms/step - loss: 0.3687 - accuracy: 0.8539\n",
      "Epoch 3/10\n",
      "321/321 [==============================] - 3s 9ms/step - loss: 0.1993 - accuracy: 0.9290\n",
      "Epoch 4/10\n",
      "321/321 [==============================] - 3s 9ms/step - loss: 0.0873 - accuracy: 0.9755\n",
      "Epoch 5/10\n",
      "321/321 [==============================] - 3s 9ms/step - loss: 0.0479 - accuracy: 0.9861\n",
      "Epoch 6/10\n",
      "321/321 [==============================] - 3s 9ms/step - loss: 0.0309 - accuracy: 0.9903\n",
      "Epoch 7/10\n",
      "321/321 [==============================] - 3s 9ms/step - loss: 0.0215 - accuracy: 0.9926\n",
      "Epoch 8/10\n",
      "321/321 [==============================] - 3s 9ms/step - loss: 0.0221 - accuracy: 0.9922\n",
      "Epoch 9/10\n",
      "321/321 [==============================] - 3s 9ms/step - loss: 0.0182 - accuracy: 0.9943\n",
      "Epoch 10/10\n",
      "321/321 [==============================] - 3s 9ms/step - loss: 0.0153 - accuracy: 0.9932\n"
     ]
    },
    {
     "data": {
      "text/plain": [
       "<tensorflow.python.keras.callbacks.History at 0x7f2594cc11d0>"
      ]
     },
     "execution_count": 174,
     "metadata": {
      "tags": []
     },
     "output_type": "execute_result"
    }
   ],
   "source": [
    "from tensorflow.keras.models import Sequential\n",
    "from tensorflow.keras.layers import Dense, Dropout, BatchNormalization\n",
    "from sklearn.metrics import accuracy_score, confusion_matrix, precision_score, recall_score, f1_score, precision_recall_curve, auc,roc_auc_score,roc_curve,classification_report\n",
    "# Initializing the ANN\n",
    "model1 = Sequential()\n",
    "# The amount of nodes (dimensions) in hidden layer should be the average of input and output layers, in this case 6.\n",
    "# This adds the input layer (by specifying input dimension) AND the first hidden layer (units)\n",
    "model1.add(Dense(1024,activation='relu'))\n",
    "model1.add(Dense(100, activation ='relu'))\n",
    "model1.add(Dense(3,activation='softmax'))\n",
    "# Create optimizer with default learning rate\n",
    "# Compile the model\n",
    "#classifier.compile(optimizer='SGD', loss='mse', metrics=['accuracy'])\n",
    "\n",
    "#sgd = optimizers.Adam(lr = 0.01)\n",
    "model1.compile(optimizer = 'adam', loss = 'categorical_crossentropy', metrics=['accuracy'])\n",
    "\n",
    "model1.fit(X_train, y_train, batch_size = 32, epochs = 10, verbose=1)"
   ]
  },
  {
   "cell_type": "code",
   "execution_count": 175,
   "metadata": {
    "colab": {
     "base_uri": "https://localhost:8080/"
    },
    "id": "H1OCUx5V4KsK",
    "outputId": "f127cddd-5d9e-41bb-d82e-53ceb3720532"
   },
   "outputs": [
    {
     "name": "stdout",
     "output_type": "stream",
     "text": [
      "Model: \"sequential_7\"\n",
      "_________________________________________________________________\n",
      "Layer (type)                 Output Shape              Param #   \n",
      "=================================================================\n",
      "dense_21 (Dense)             (None, 1024)              1025024   \n",
      "_________________________________________________________________\n",
      "dense_22 (Dense)             (None, 100)               102500    \n",
      "_________________________________________________________________\n",
      "dense_23 (Dense)             (None, 3)                 303       \n",
      "=================================================================\n",
      "Total params: 1,127,827\n",
      "Trainable params: 1,127,827\n",
      "Non-trainable params: 0\n",
      "_________________________________________________________________\n"
     ]
    }
   ],
   "source": [
    "model1.summary()"
   ]
  },
  {
   "cell_type": "code",
   "execution_count": 176,
   "metadata": {
    "colab": {
     "base_uri": "https://localhost:8080/"
    },
    "id": "iUCekENq4NyA",
    "outputId": "8d45e2d6-8c83-4e62-db08-3d558d4a7d6a"
   },
   "outputs": [
    {
     "name": "stdout",
     "output_type": "stream",
     "text": [
      "Accuracy: 0.800\n",
      "Loss: 1.344\n"
     ]
    }
   ],
   "source": [
    "loss, acc = model1.evaluate(X_test, y_test, verbose=0)\n",
    "print('Accuracy: %.3f'  % acc)\n",
    "print('Loss: %.3f' % loss)"
   ]
  },
  {
   "cell_type": "code",
   "execution_count": 177,
   "metadata": {
    "id": "oaoZ2U-64bb4"
   },
   "outputs": [],
   "source": [
    "y_pred = model1.predict(X_test)"
   ]
  },
  {
   "cell_type": "code",
   "execution_count": 190,
   "metadata": {
    "colab": {
     "base_uri": "https://localhost:8080/"
    },
    "id": "r7zgUW6h4bjL",
    "outputId": "a39059c3-775f-46d4-a00d-f4cdfc7c3898"
   },
   "outputs": [
    {
     "name": "stdout",
     "output_type": "stream",
     "text": [
      "[[2464  187   87]\n",
      " [ 292  546   91]\n",
      " [ 126  111  488]]\n"
     ]
    }
   ],
   "source": [
    "# printing Confusion Matrix\n",
    "cm = confusion_matrix(np.argmax(y_test,axis=1), np.argmax(y_pred,axis=1))\n",
    "print (cm)"
   ]
  },
  {
   "cell_type": "code",
   "execution_count": 179,
   "metadata": {
    "colab": {
     "base_uri": "https://localhost:8080/"
    },
    "id": "IUD9dGT64bl-",
    "outputId": "4f37c8d9-961d-4e94-edab-06279bfb7454"
   },
   "outputs": [
    {
     "name": "stdout",
     "output_type": "stream",
     "text": [
      "              precision    recall  f1-score   support\n",
      "\n",
      "           0       0.85      0.91      0.88      2738\n",
      "           1       0.65      0.59      0.62       929\n",
      "           2       0.78      0.63      0.70       725\n",
      "\n",
      "    accuracy                           0.80      4392\n",
      "   macro avg       0.76      0.71      0.73      4392\n",
      "weighted avg       0.79      0.80      0.79      4392\n",
      "\n"
     ]
    }
   ],
   "source": [
    "# printing Clasification Report\n",
    "print (classification_report(np.argmax(y_test,axis=1), np.argmax(y_pred,axis=1)))"
   ]
  },
  {
   "cell_type": "code",
   "execution_count": 179,
   "metadata": {
    "id": "drjS_ECQ4bpL"
   },
   "outputs": [],
   "source": []
  },
  {
   "cell_type": "markdown",
   "metadata": {
    "id": "HFWyYj6j4wrj"
   },
   "source": [
    "Creating a Nueral N/w for TD-IDF Vectorization"
   ]
  },
  {
   "cell_type": "code",
   "execution_count": 180,
   "metadata": {
    "id": "x3cqAnSO4btG"
   },
   "outputs": [],
   "source": [
    "X_train, X_test, y_train, y_test = train_test_split(data_features2, labels2, test_size=0.3, random_state=9)"
   ]
  },
  {
   "cell_type": "code",
   "execution_count": 181,
   "metadata": {
    "id": "ObeF54z04bwA"
   },
   "outputs": [],
   "source": [
    "X_train=tf.convert_to_tensor(X_train)\n",
    "X_test=tf.convert_to_tensor(X_test)\n",
    "y_train=tf.convert_to_tensor(y_train)\n",
    "y_test=tf.convert_to_tensor(y_test)"
   ]
  },
  {
   "cell_type": "code",
   "execution_count": 182,
   "metadata": {
    "colab": {
     "base_uri": "https://localhost:8080/"
    },
    "id": "rs_uElz85Cer",
    "outputId": "6346a4fc-be97-4737-f152-c949edf30f7d"
   },
   "outputs": [
    {
     "data": {
      "text/plain": [
       "(TensorShape([10248, 1000]),\n",
       " TensorShape([4392, 1000]),\n",
       " TensorShape([10248, 3]),\n",
       " TensorShape([4392, 3]))"
      ]
     },
     "execution_count": 182,
     "metadata": {
      "tags": []
     },
     "output_type": "execute_result"
    }
   ],
   "source": [
    "X_train.shape, X_test.shape, y_train.shape, y_test.shape"
   ]
  },
  {
   "cell_type": "code",
   "execution_count": 183,
   "metadata": {
    "colab": {
     "base_uri": "https://localhost:8080/"
    },
    "id": "b667rZWD5DCI",
    "outputId": "1c0805f6-a5ae-4a64-cbb8-16220a8970a3"
   },
   "outputs": [
    {
     "name": "stdout",
     "output_type": "stream",
     "text": [
      "Epoch 1/10\n",
      "321/321 [==============================] - 4s 10ms/step - loss: 0.7101 - accuracy: 0.7000\n",
      "Epoch 2/10\n",
      "321/321 [==============================] - 3s 10ms/step - loss: 0.4000 - accuracy: 0.8478\n",
      "Epoch 3/10\n",
      "321/321 [==============================] - 3s 9ms/step - loss: 0.2801 - accuracy: 0.9006\n",
      "Epoch 4/10\n",
      "321/321 [==============================] - 3s 10ms/step - loss: 0.1364 - accuracy: 0.9616\n",
      "Epoch 5/10\n",
      "321/321 [==============================] - 3s 10ms/step - loss: 0.0585 - accuracy: 0.9827\n",
      "Epoch 6/10\n",
      "321/321 [==============================] - 3s 10ms/step - loss: 0.0308 - accuracy: 0.9917\n",
      "Epoch 7/10\n",
      "321/321 [==============================] - 3s 10ms/step - loss: 0.0306 - accuracy: 0.9913\n",
      "Epoch 8/10\n",
      "321/321 [==============================] - 3s 10ms/step - loss: 0.0216 - accuracy: 0.9934\n",
      "Epoch 9/10\n",
      "321/321 [==============================] - 3s 10ms/step - loss: 0.0250 - accuracy: 0.9927\n",
      "Epoch 10/10\n",
      "321/321 [==============================] - 3s 10ms/step - loss: 0.0191 - accuracy: 0.9931\n"
     ]
    },
    {
     "data": {
      "text/plain": [
       "<tensorflow.python.keras.callbacks.History at 0x7f25958416a0>"
      ]
     },
     "execution_count": 183,
     "metadata": {
      "tags": []
     },
     "output_type": "execute_result"
    }
   ],
   "source": [
    "# Initializing the ANN\n",
    "model2 = Sequential()\n",
    "# The amount of nodes (dimensions) in hidden layer should be the average of input and output layers, in this case 6.\n",
    "# This adds the input layer (by specifying input dimension) AND the first hidden layer (units)\n",
    "model2.add(Dense(1024,activation='relu'))\n",
    "model2.add(Dense(100, activation ='relu'))\n",
    "model2.add(Dense(3,activation='softmax'))\n",
    "# Create optimizer with default learning rate\n",
    "# Compile the model\n",
    "#classifier.compile(optimizer='SGD', loss='mse', metrics=['accuracy'])\n",
    "\n",
    "#sgd = optimizers.Adam(lr = 0.01)\n",
    "model2.compile(optimizer = 'adam', loss = 'categorical_crossentropy', metrics=['accuracy'])\n",
    "\n",
    "model2.fit(X_train, y_train, batch_size = 32, epochs = 10, verbose=1)"
   ]
  },
  {
   "cell_type": "code",
   "execution_count": 184,
   "metadata": {
    "colab": {
     "base_uri": "https://localhost:8080/"
    },
    "id": "iQHeNanR5d7o",
    "outputId": "a2a8dbc3-0381-4d70-b17c-60dbf2aa8bfd"
   },
   "outputs": [
    {
     "name": "stdout",
     "output_type": "stream",
     "text": [
      "Model: \"sequential_8\"\n",
      "_________________________________________________________________\n",
      "Layer (type)                 Output Shape              Param #   \n",
      "=================================================================\n",
      "dense_24 (Dense)             (None, 1024)              1025024   \n",
      "_________________________________________________________________\n",
      "dense_25 (Dense)             (None, 100)               102500    \n",
      "_________________________________________________________________\n",
      "dense_26 (Dense)             (None, 3)                 303       \n",
      "=================================================================\n",
      "Total params: 1,127,827\n",
      "Trainable params: 1,127,827\n",
      "Non-trainable params: 0\n",
      "_________________________________________________________________\n"
     ]
    }
   ],
   "source": [
    "model2.summary()"
   ]
  },
  {
   "cell_type": "code",
   "execution_count": 185,
   "metadata": {
    "colab": {
     "base_uri": "https://localhost:8080/"
    },
    "id": "D-h1iNpF5ecT",
    "outputId": "07ee0504-d7b2-426f-e791-349eb6145b38"
   },
   "outputs": [
    {
     "name": "stdout",
     "output_type": "stream",
     "text": [
      "Accuracy: 0.796\n",
      "Loss: 1.037\n"
     ]
    }
   ],
   "source": [
    "loss, acc = model2.evaluate(X_test, y_test, verbose=0)\n",
    "print('Accuracy: %.3f'  % acc)\n",
    "print('Loss: %.3f' % loss)"
   ]
  },
  {
   "cell_type": "code",
   "execution_count": 186,
   "metadata": {
    "id": "IalWi2xe5oi7"
   },
   "outputs": [],
   "source": [
    "y_pred = model2.predict(X_test)"
   ]
  },
  {
   "cell_type": "code",
   "execution_count": 187,
   "metadata": {
    "colab": {
     "base_uri": "https://localhost:8080/"
    },
    "id": "s0n2dtOk8NvF",
    "outputId": "7a954cd1-bcc4-4b94-e915-05d8ce6e65fb"
   },
   "outputs": [
    {
     "data": {
      "text/plain": [
       "array([[9.9900997e-01, 9.8903209e-04, 9.5524661e-07],\n",
       "       [9.9992812e-01, 4.4943451e-07, 7.1376635e-05],\n",
       "       [9.9993670e-01, 5.1971154e-05, 1.1334716e-05],\n",
       "       ...,\n",
       "       [9.9995625e-01, 3.2707398e-05, 1.1065102e-05],\n",
       "       [9.9999928e-01, 6.7688626e-07, 1.8599058e-09],\n",
       "       [2.2906104e-04, 9.9737811e-01, 2.3927761e-03]], dtype=float32)"
      ]
     },
     "execution_count": 187,
     "metadata": {
      "tags": []
     },
     "output_type": "execute_result"
    }
   ],
   "source": [
    "y_pred"
   ]
  },
  {
   "cell_type": "code",
   "execution_count": 188,
   "metadata": {
    "colab": {
     "base_uri": "https://localhost:8080/"
    },
    "id": "qUmIKVAU6HCB",
    "outputId": "0ffddd8a-ce82-417c-99fc-e852a0b65e9f"
   },
   "outputs": [
    {
     "name": "stdout",
     "output_type": "stream",
     "text": [
      "[[2464  187   87]\n",
      " [ 292  546   91]\n",
      " [ 126  111  488]]\n"
     ]
    }
   ],
   "source": [
    "# printing Confusion Matrix\n",
    "cm = confusion_matrix(np.argmax(y_test,axis=1), np.argmax(y_pred,axis=1))\n",
    "\n",
    "print(cm)"
   ]
  },
  {
   "cell_type": "code",
   "execution_count": 189,
   "metadata": {
    "colab": {
     "base_uri": "https://localhost:8080/"
    },
    "id": "lNcpGiG66HGE",
    "outputId": "a66b8baf-4291-4f6d-8583-4660562a7e65"
   },
   "outputs": [
    {
     "name": "stdout",
     "output_type": "stream",
     "text": [
      "              precision    recall  f1-score   support\n",
      "\n",
      "           0       0.85      0.90      0.88      2738\n",
      "           1       0.65      0.59      0.62       929\n",
      "           2       0.73      0.67      0.70       725\n",
      "\n",
      "    accuracy                           0.80      4392\n",
      "   macro avg       0.74      0.72      0.73      4392\n",
      "weighted avg       0.79      0.80      0.79      4392\n",
      "\n"
     ]
    }
   ],
   "source": [
    "# printing Clasification Report\n",
    "print (classification_report(np.argmax(y_test,axis=1), np.argmax(y_pred,axis=1)))"
   ]
  },
  {
   "cell_type": "markdown",
   "metadata": {
    "id": "3gGcFj9P6teQ"
   },
   "source": [
    "## Summary"
   ]
  },
  {
   "cell_type": "markdown",
   "metadata": {
    "id": "S80PbsGx6teR"
   },
   "source": [
    "#### We used dataset which has reviews in text format and their sentiment score on the scale of 1 to 3.\n",
    "#### The goal was to build a model for text-classification.\n",
    "#### Pre-processed the data using variuos techniques and libraries.- Removed the HTML Tags, Tokenized the text into words. Converted the words into lower case, Removed Special Characters and Punctuations, Removed Numbers from the words. Applied Lemitization on the words. After applying all these functions, words are joined back a text\n",
    "#### The pre-precessed data is converted to numbers using Counter Vectorization and TD-IDF Vectorization methods. We have 12230 Tokens, Processing these many tokens Conume very high memory so only first 1000 priority tokens considered for the model creation.\n",
    "####  Modles are feeded with the Vectors created in both techniuques for comparision \n",
    "#### After building the classification model, we predicted the result for the test data.\n",
    "#### After that we saw that using the above techniques, our model performed good in perspective of how the text classification models perform.\n",
    "#### we created Neural Network models as well and compared. \n",
    "#### with current Hyper paramters, there is no much variance/difference between Counter Vectorization and TD-IDF Vectorization methods.\n",
    "#### However, we can still increase accuracy by changing the Hyperparameters, Number of Input tokens."
   ]
  },
  {
   "cell_type": "code",
   "execution_count": null,
   "metadata": {},
   "outputs": [],
   "source": []
  },
  {
   "cell_type": "code",
   "execution_count": null,
   "metadata": {
    "id": "uwJHppo3Afpg"
   },
   "outputs": [],
   "source": []
  }
 ],
 "metadata": {
  "colab": {
   "collapsed_sections": [
    "ACXZp8aZ6teC"
   ],
   "name": "NLP_Proj_Rajasekhar.ipynb",
   "provenance": []
  },
  "kernelspec": {
   "display_name": "Python 3",
   "language": "python",
   "name": "python3"
  },
  "language_info": {
   "codemirror_mode": {
    "name": "ipython",
    "version": 3
   },
   "file_extension": ".py",
   "mimetype": "text/x-python",
   "name": "python",
   "nbconvert_exporter": "python",
   "pygments_lexer": "ipython3",
   "version": "3.7.6"
  }
 },
 "nbformat": 4,
 "nbformat_minor": 1
}
